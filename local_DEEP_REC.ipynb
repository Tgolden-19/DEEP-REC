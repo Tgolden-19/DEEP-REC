{
 "cells": [
  {
   "cell_type": "code",
   "execution_count": null,
   "metadata": {
    "colab": {
     "base_uri": "https://localhost:8080/"
    },
    "id": "S75iETQlXcvR",
    "outputId": "f619c098-bf7c-45e6-9032-0f7196542143"
   },
   "outputs": [
    {
     "name": "stdout",
     "output_type": "stream",
     "text": [
      "Requirement already satisfied: pydub in /usr/local/lib/python3.10/dist-packages (0.25.1)\n",
      "Requirement already satisfied: tensorflow-io in /usr/local/lib/python3.10/dist-packages (0.34.0)\n",
      "Requirement already satisfied: tensorflow-io-gcs-filesystem==0.34.0 in /usr/local/lib/python3.10/dist-packages (from tensorflow-io) (0.34.0)\n"
     ]
    }
   ],
   "source": [
    "%pip install pydub\n",
    "%pip install tensorflow-io"
   ]
  },
  {
   "cell_type": "markdown",
   "metadata": {
    "id": "4fiOjjD8HJOJ"
   },
   "source": [
    "Code to download the songs based off the given directory to exportify csv"
   ]
  },
  {
   "cell_type": "code",
   "execution_count": null,
   "metadata": {
    "id": "Tzgm64nNHI8M"
   },
   "outputs": [],
   "source": [
    "import urllib.request\n",
    "import requests\n",
    "import pandas as pd\n",
    "import numpy as np\n",
    "\n",
    "np.random.seed(42)\n",
    "likes = pd.read_csv(\"./ml_likes.csv\")\n",
    "dislikes = pd.read_csv(\"./ml_dislikes.csv\")\n",
    "likes_links = likes.loc[:, \"Track Preview URL\"]\n",
    "dislikes_links = dislikes.loc[:, \"Track Preview URL\"]\n",
    "likes_size = likes_links.shape[0]\n",
    "dislikes_size = dislikes_links.shape[0]\n",
    "likes_dist = np.random.randint(0, likes_size, (likes_size))\n",
    "dislikes_dist = np.random.randint(0, dislikes_size, (dislikes_size))\n",
    "likes_train_ind = likes_dist[0:likes_size//2]\n",
    "likes_test_ind = likes_dist[likes_size//2:likes_size-1]\n",
    "dislikes_train_ind = dislikes_dist[0:likes_size//2]\n",
    "dislikes_test_ind = dislikes_dist[likes_size//2:likes_size-1]\n",
    "\n",
    "temp1 = []\n",
    "temp2 = []\n",
    "for i in likes_train_ind:\n",
    "    temp1.append(likes_links[i])\n",
    "for j in dislikes_train_ind:\n",
    "    temp2.append(dislikes_links[j])\n",
    "likes_train_data = np.array(temp1)\n",
    "dislikes_train_data = np.array(temp2)\n",
    "temp1 = []\n",
    "temp2 = []\n",
    "for i in likes_test_ind:\n",
    "    temp1.append(likes_links[i])\n",
    "for j in dislikes_test_ind:\n",
    "    temp2.append(dislikes_links[j])\n",
    "likes_test_data = np.array(temp1)\n",
    "dislikes_test_data = np.array(temp2)\n",
    "\n",
    "#Get training data for likes\n",
    "for k in range(len(likes_train_data)):\n",
    "    try:\n",
    "        song_preview = requests.get(likes_train_data[k])\n",
    "        file_path = \"liked_songs/train_data/sample_\" + str(k) + \".wav\"\n",
    "        with open(file_path, 'wb') as f:\n",
    "            f.write(song_preview.content)\n",
    "    except:\n",
    "        print(\"song had no preview link\")\n",
    "\n",
    "#get test data for likes\n",
    "for k in range(len(likes_test_data)):\n",
    "    try:\n",
    "        song_preview = requests.get(likes_test_data[k])\n",
    "        file_path = \"liked_songs/test_data/sample_\" + str(k) + \".wav\"\n",
    "        with open(file_path, 'wb') as f:\n",
    "            f.write(song_preview.content)\n",
    "    except:\n",
    "        print(\"song (\" + str(k) + \") had no preview link\")\n",
    "\n",
    "#get training data for dislikes\n",
    "for k in range(len(dislikes_train_data)):\n",
    "    try:\n",
    "        song_preview = requests.get(dislikes_train_data[k])\n",
    "        file_path = \"disliked_songs/train_data/sample_\" + str(k) + \".wav\"\n",
    "        with open(file_path, 'wb') as f:\n",
    "            f.write(song_preview.content)\n",
    "    except:\n",
    "        print(\"song (\" + str(k) + \") had no preview link\")\n",
    "\n",
    "#get training data for dislikes\n",
    "for k in range(len(dislikes_test_data)):\n",
    "    try:\n",
    "        song_preview = requests.get(dislikes_test_data[k])\n",
    "        file_path = \"disliked_songs/test_data/sample_\" + str(k) + \".wav\"\n",
    "        with open(file_path, 'wb') as f:\n",
    "            f.write(song_preview.content)\n",
    "    except:\n",
    "        print(\"song (\" + str(k) + \") had no preview link\")\n",
    "\n",
    "\n"
   ]
  },
  {
   "cell_type": "markdown",
   "metadata": {
    "id": "Xumk4mtCW2IT"
   },
   "source": [
    "Import dependencies"
   ]
  },
  {
   "cell_type": "code",
   "execution_count": null,
   "metadata": {
    "id": "FxOg435_VmHF"
   },
   "outputs": [],
   "source": [
    "from google.colab import drive\n",
    "import os\n",
    "from matplotlib import pyplot as plt\n",
    "import tensorflow as tf\n",
    "import tensorflow_io as tfio\n",
    "import pydub\n",
    "import numpy as np"
   ]
  },
  {
   "cell_type": "markdown",
   "metadata": {
    "id": "TuH7SRSUW8bb"
   },
   "source": [
    "Mount Google drive"
   ]
  },
  {
   "cell_type": "code",
   "execution_count": null,
   "metadata": {
    "colab": {
     "base_uri": "https://localhost:8080/"
    },
    "id": "HaUMD0HaWz-_",
    "outputId": "f0c0cd9e-d186-4d89-eb4a-dade98607b90"
   },
   "outputs": [
    {
     "name": "stdout",
     "output_type": "stream",
     "text": [
      "Drive already mounted at /content/drive; to attempt to forcibly remount, call drive.mount(\"/content/drive\", force_remount=True).\n"
     ]
    }
   ],
   "source": [
    "drive.mount('/content/drive')\n"
   ]
  },
  {
   "cell_type": "markdown",
   "metadata": {
    "id": "R9deh6etXYsG"
   },
   "source": [
    "Load data"
   ]
  },
  {
   "cell_type": "code",
   "execution_count": null,
   "metadata": {
    "colab": {
     "base_uri": "https://localhost:8080/"
    },
    "id": "g1WkWK5LXaxD",
    "outputId": "9c6634c9-484d-4e0b-da60-53f96630e927"
   },
   "outputs": [
    {
     "name": "stdout",
     "output_type": "stream",
     "text": [
      "True\n",
      "[ 151  272  211 ... -206   47 -157]\n"
     ]
    }
   ],
   "source": [
    "def load_and_split_sample(filepath):\n",
    "    #load audio via tensorflow\n",
    "    audio = pydub.AudioSegment.from_mp3(filepath)\n",
    "    audio = np.array(audio.get_array_of_samples())\n",
    "    # print(audio.shape)\n",
    "    tensor = tf.convert_to_tensor(audio)\n",
    "    # audio = tf.io.read_file(filepath)\n",
    "    # tensor = tf.squeeze(tensor, axis=[-1])\n",
    "    # audio_size = audio.shape[0]\n",
    "    # pt_1 = audio[:audio_size//3]\n",
    "    # pt_2 = audio[audio_size//3:(audio_size//3)*2]\n",
    "    # pt_3 = audio[(audio_size//3)*2:]\n",
    "    # pt_1_tensor = tf.squeeze(pt_1, axis=[-1])\n",
    "    # pt_2_tensor = tf.squeeze(pt_2, axis=[-1])\n",
    "    # pt_3_tensor = tf.squeeze(pt_3, axis=[-1])\n",
    "    # return pt_1_tensor, pt_2_tensor, pt_3_tensor\n",
    "    return audio\n",
    "\n",
    "AUTOTUNE = tf.data.experimental.AUTOTUNE\n",
    "# test sample\n",
    "test_file = os.path.join('/content/drive/MyDrive/prac_proj/data/liked_songs','train_data','sample_0.mp3')\n",
    "test_file2 = os.path.join('/content/drive/MyDrive/prac_proj/data/liked_songs','train_data','sample_4.mp3')\n",
    "test_file3 = os.path.join('/content/drive/MyDrive/prac_proj/data/liked_songs','train_data','sample_6.mp3')\n",
    "\n",
    "print(os.path.exists(test_file))\n",
    "clip = load_and_split_sample(test_file)\n",
    "print(clip)\n",
    "# clip1, clip2, clip3 = load_and_split_sample(test_file)\n"
   ]
  },
  {
   "cell_type": "markdown",
   "metadata": {
    "id": "POrVqNHNYWZd"
   },
   "source": [
    "Plot to verify"
   ]
  },
  {
   "cell_type": "code",
   "execution_count": null,
   "metadata": {
    "colab": {
     "base_uri": "https://localhost:8080/",
     "height": 448
    },
    "id": "LRq-DglTYUg_",
    "outputId": "2d488335-1bb8-4c0e-9f61-fb561675dc88"
   },
   "outputs": [
    {
     "data": {
      "image/png": "[encoded data removed]",
      "text/plain": [
       "<Figure size 640x480 with 1 Axes>"
      ]
     },
     "metadata": {},
     "output_type": "display_data"
    }
   ],
   "source": [
    "\n",
    "# tensor1 = tf.cast(clip1, tf.float32) / 32768.0\n",
    "# tensor2 = tf.cast(clip2, tf.float32) / 32768.0\n",
    "# tensor3 = tf.cast(clip3, tf.float32) / 32768.0\n",
    "tensor = tf.cast(clip, tf.float32) / 32768.0\n",
    "\n",
    "plt.figure()\n",
    "plt.plot(tensor.numpy())\n",
    "# plt.plot(tensor1.numpy())\n",
    "# plt.plot(tensor2.numpy())\n",
    "# plt.plot(tensor3.numpy())\n",
    "plt.show()\n"
   ]
  },
  {
   "cell_type": "markdown",
   "metadata": {
    "id": "RCZlf56M3BfC"
   },
   "source": [
    "Convert to spectrogram"
   ]
  },
  {
   "cell_type": "code",
   "execution_count": null,
   "metadata": {
    "id": "OtmHuJJY29QZ"
   },
   "outputs": [],
   "source": [
    "\n",
    "def split_clips(dir_path):\n",
    "    # clip1, clip2, clip3 = load_and_split_sample(test_file)\n",
    "    clip = load_and_split_sample(test_file)\n",
    "    slices = tf.split(clip, 6)\n",
    "    # slices = tf.stack(slices)\n",
    "    tensor = tf.cast(slices, tf.float32) / 32768.0\n",
    "    # tensor1 = tf.cast(clip1, tf.float32) / 32768.0\n",
    "    # tensor2 = tf.cast(clip2, tf.float32) / 32768.0\n",
    "    # tensor3 = tf.cast(clip3, tf.float32) / 32768.0\n",
    "    #plot waveforms to verify loading\n",
    "    # plt.figure()\n",
    "    # plt.plot(tensor1.numpy())\n",
    "    # plt.plot(tensor2.numpy())\n",
    "    # plt.plot(tensor3.numpy())\n",
    "    # plt.show()\n",
    "    # print(tensor)\n",
    "\n",
    "    # spectrogram1 = tfio.audio.spectrogram(\n",
    "    #     tensor1, nfft=512, window=512, stride=256)\n",
    "    # spectrogram2 = tfio.audio.spectrogram(\n",
    "    #     tensor2, nfft=512, window=512, stride=256)\n",
    "    # spectrogram3 = tfio.audio.spectrogram(\n",
    "    #     tensor3, nfft=512, window=512, stride=256)\n",
    "\n",
    "\n",
    "\n",
    "    # plt.imshow(tf.math.log(spectrogram2).numpy())\n",
    "\n",
    "    #old return\n",
    "    # return spectrogram1, spectrogram2, spectrogram3, label\n",
    "    #new return\n",
    "    return tensor"
   ]
  },
  {
   "cell_type": "code",
   "execution_count": null,
   "metadata": {
    "id": "KkHzK2hyZNll"
   },
   "outputs": [],
   "source": [
    "\n",
    "def split_clips2(dir_path):\n",
    "    # clip1, clip2, clip3 = load_and_split_sample(test_file)\n",
    "    clip = load_and_split_sample(test_file)\n",
    "    slices = tf.split(clip, 3)\n",
    "    # slices = tf.stack(slices)\n",
    "    tensor = tf.cast(slices, tf.float32) / 32768.0\n",
    "    # tensor1 = tf.cast(clip1, tf.float32) / 32768.0\n",
    "    # tensor2 = tf.cast(clip2, tf.float32) / 32768.0\n",
    "    # tensor3 = tf.cast(clip3, tf.float32) / 32768.0\n",
    "    #plot waveforms to verify loading\n",
    "    # plt.figure()\n",
    "    # plt.plot(tensor1.numpy())\n",
    "    # plt.plot(tensor2.numpy())\n",
    "    # plt.plot(tensor3.numpy())\n",
    "    # plt.show()\n",
    "    # print(tensor)\n",
    "\n",
    "    # spectrogram1 = tfio.audio.spectrogram(\n",
    "    #     tensor1, nfft=512, window=512, stride=256)\n",
    "    # spectrogram2 = tfio.audio.spectrogram(\n",
    "    #     tensor2, nfft=512, window=512, stride=256)\n",
    "    # spectrogram3 = tfio.audio.spectrogram(\n",
    "    #     tensor3, nfft=512, window=512, stride=256)\n",
    "\n",
    "\n",
    "\n",
    "    # plt.imshow(tf.math.log(spectrogram2).numpy())\n",
    "\n",
    "    #old return\n",
    "    # return spectrogram1, spectrogram2, spectrogram3, label\n",
    "    #new return\n",
    "    return tensor"
   ]
  },
  {
   "cell_type": "code",
   "execution_count": null,
   "metadata": {
    "id": "d96KHE3pZQYv"
   },
   "outputs": [],
   "source": []
  },
  {
   "cell_type": "code",
   "execution_count": null,
   "metadata": {
    "id": "R8J26DRWZQsC"
   },
   "outputs": [],
   "source": [
    "\n",
    "def split_clips3(dir_path):\n",
    "    # clip1, clip2, clip3 = load_and_split_sample(test_file)\n",
    "    clip = load_and_split_sample(test_file)\n",
    "    # slices = tf.split(clip, 6)\n",
    "    # slices = tf.stack(slices)\n",
    "    tensor = tf.cast(clip, tf.float32) / 32768.0\n",
    "    # tensor1 = tf.cast(clip1, tf.float32) / 32768.0\n",
    "    # tensor2 = tf.cast(clip2, tf.float32) / 32768.0\n",
    "    # tensor3 = tf.cast(clip3, tf.float32) / 32768.0\n",
    "    #plot waveforms to verify loading\n",
    "    # plt.figure()\n",
    "    # plt.plot(tensor1.numpy())\n",
    "    # plt.plot(tensor2.numpy())\n",
    "    # plt.plot(tensor3.numpy())\n",
    "    # plt.show()\n",
    "    # print(tensor)\n",
    "\n",
    "    # spectrogram1 = tfio.audio.spectrogram(\n",
    "    #     tensor1, nfft=512, window=512, stride=256)\n",
    "    # spectrogram2 = tfio.audio.spectrogram(\n",
    "    #     tensor2, nfft=512, window=512, stride=256)\n",
    "    # spectrogram3 = tfio.audio.spectrogram(\n",
    "    #     tensor3, nfft=512, window=512, stride=256)\n",
    "\n",
    "\n",
    "\n",
    "    # plt.imshow(tf.math.log(spectrogram2).numpy())\n",
    "\n",
    "    #old return\n",
    "    # return spectrogram1, spectrogram2, spectrogram3, label\n",
    "    #new return\n",
    "    return tensor"
   ]
  },
  {
   "cell_type": "code",
   "execution_count": null,
   "metadata": {
    "id": "wlDwbqQp8u6G"
   },
   "outputs": [],
   "source": [
    "def to_spectrogram(tensor):\n",
    "      spectrogram = tfio.audio.spectrogram(\n",
    "        tensor, nfft=512, window=512, stride=256)\n",
    "      spectrogram = tf.expand_dims(spectrogram, axis=-1)\n",
    "      return spectrogram"
   ]
  },
  {
   "cell_type": "code",
   "execution_count": null,
   "metadata": {
    "id": "Ke69HsuW61GN"
   },
   "outputs": [],
   "source": [
    "def to_spectrogram2(tensor, label):\n",
    "      tensor = split_clips3(tensor)\n",
    "      spectrogram = tfio.audio.spectrogram(\n",
    "        tensor, nfft=512, window=512, stride=256)\n",
    "      spectrogram = tf.expand_dims(spectrogram, axis=-1)\n",
    "      return spectrogram, label"
   ]
  },
  {
   "cell_type": "markdown",
   "metadata": {
    "id": "yQ2O3HdO3IF5"
   },
   "source": [
    "Plots to see current stat"
   ]
  },
  {
   "cell_type": "code",
   "execution_count": null,
   "metadata": {
    "colab": {
     "base_uri": "https://localhost:8080/",
     "height": 1000
    },
    "id": "dXVeOc-B3Aty",
    "outputId": "e44438f9-a862-4fed-c61f-2774389c43a7"
   },
   "outputs": [
    {
     "name": "stdout",
     "output_type": "stream",
     "text": [
      "tf.Tensor(\n",
      "[[ 0.00460815  0.00830078  0.00643921 ...  0.27670288  0.17132568\n",
      "   0.2767334 ]\n",
      " [ 0.17929077  0.25247192  0.17788696 ...  0.2508545   0.5161133\n",
      "   0.18655396]\n",
      " [ 0.2713623  -0.07861328 -0.23501587 ... -0.08059692 -0.11813354\n",
      "  -0.06323242]\n",
      " [-0.09588623 -0.06890869 -0.0776062  ... -0.21151733 -0.19491577\n",
      "  -0.21258545]\n",
      " [-0.23760986 -0.17773438 -0.24804688 ... -0.30145264 -0.44662476\n",
      "  -0.33255005]\n",
      " [-0.51016235 -0.37460327 -0.536438   ... -0.00628662  0.00143433\n",
      "  -0.00479126]], shape=(6, 436776), dtype=float32)\n",
      "tf.Tensor(\n",
      "[[ 0.00460815  0.00830078  0.00643921 ...  0.27670288  0.17132568\n",
      "   0.2767334 ]\n",
      " [ 0.17929077  0.25247192  0.17788696 ...  0.2508545   0.5161133\n",
      "   0.18655396]\n",
      " [ 0.2713623  -0.07861328 -0.23501587 ... -0.08059692 -0.11813354\n",
      "  -0.06323242]\n",
      " [-0.09588623 -0.06890869 -0.0776062  ... -0.21151733 -0.19491577\n",
      "  -0.21258545]\n",
      " [-0.23760986 -0.17773438 -0.24804688 ... -0.30145264 -0.44662476\n",
      "  -0.33255005]\n",
      " [-0.51016235 -0.37460327 -0.536438   ... -0.00628662  0.00143433\n",
      "  -0.00479126]], shape=(6, 436776), dtype=float32)\n",
      "tf.Tensor(\n",
      "[[ 0.00460815  0.00830078  0.00643921 ...  0.27670288  0.17132568\n",
      "   0.2767334 ]\n",
      " [ 0.17929077  0.25247192  0.17788696 ...  0.2508545   0.5161133\n",
      "   0.18655396]\n",
      " [ 0.2713623  -0.07861328 -0.23501587 ... -0.08059692 -0.11813354\n",
      "  -0.06323242]\n",
      " ...\n",
      " [-0.09588623 -0.06890869 -0.0776062  ... -0.21151733 -0.19491577\n",
      "  -0.21258545]\n",
      " [-0.23760986 -0.17773438 -0.24804688 ... -0.30145264 -0.44662476\n",
      "  -0.33255005]\n",
      " [-0.51016235 -0.37460327 -0.536438   ... -0.00628662  0.00143433\n",
      "  -0.00479126]], shape=(12, 436776), dtype=float32)\n",
      "tf.Tensor(\n",
      "[[ 0.00460815  0.00830078  0.00643921 ...  0.27670288  0.17132568\n",
      "   0.2767334 ]\n",
      " [ 0.17929077  0.25247192  0.17788696 ...  0.2508545   0.5161133\n",
      "   0.18655396]\n",
      " [ 0.2713623  -0.07861328 -0.23501587 ... -0.08059692 -0.11813354\n",
      "  -0.06323242]\n",
      " ...\n",
      " [-0.09588623 -0.06890869 -0.0776062  ... -0.21151733 -0.19491577\n",
      "  -0.21258545]\n",
      " [-0.23760986 -0.17773438 -0.24804688 ... -0.30145264 -0.44662476\n",
      "  -0.33255005]\n",
      " [-0.51016235 -0.37460327 -0.536438   ... -0.00628662  0.00143433\n",
      "  -0.00479126]], shape=(18, 436776), dtype=float32)\n"
     ]
    },
    {
     "data": {
      "image/png": "[encoded data removed]",
      "text/plain": [
       "<Figure size 640x480 with 1 Axes>"
      ]
     },
     "metadata": {},
     "output_type": "display_data"
    }
   ],
   "source": [
    "\n",
    "#show image of one of the spectrograms to verify loading\n",
    "spectrogram = to_spectrogram(tensor)\n",
    "plt.figure()\n",
    "plt.imshow(tf.math.log(spectrogram).numpy())\n",
    "\n",
    "#alter frequencies if necessary\n",
    "# freq_mask1 = tfio.audio.freq_mask(spectrogram1, param=10)\n",
    "# freq_mask2 = tfio.audio.freq_mask(spectrogram2, param=10)\n",
    "# freq_mask1 = tfio.audio.freq_mask(spectrogram3, param=10)\n",
    "#\n",
    "\n",
    "# plot one with frequency mask if necessary\n",
    "# plt.figure()\n",
    "# plt.imshow(freq_mask.numpy())\n",
    "split = split_clips(test_file)\n",
    "split2 = split_clips(test_file2)\n",
    "# split = tf.stack(split, axis=0)\n",
    "print(split)\n",
    "print(split2)\n",
    "together = tf.concat([split, split2], 0)\n",
    "print(together)\n",
    "split3 = split_clips(test_file3)\n",
    "together = tf.concat([together, split3], 0)\n",
    "print(together)"
   ]
  },
  {
   "cell_type": "code",
   "execution_count": null,
   "metadata": {
    "id": "c_gYq1f52zgn"
   },
   "outputs": [],
   "source": [
    "\n",
    "\n",
    "\n",
    "\n",
    "def prep_datasets_train():\n",
    "    #create paths to training data\n",
    "    likes_path = os.path.join(\"/content/drive/MyDrive/prac_proj/data/liked_songs\", \"train_data\")\n",
    "    dislikes_path = os.path.join(\"/content/drive/MyDrive/prac_proj/data/disliked_songs\", \"train_data\")\n",
    "    # print(os.path.exists(likes_path+\"/sample_0.mp3\"))\n",
    "    # print(os.path.exists(dislikes_path))\n",
    "\n",
    "    #load relevant samples\n",
    "    like_set = split_clips(likes_path+\"/sample_0.mp3\")\n",
    "    print(like_set)\n",
    "    like_files = os.listdir(likes_path)\n",
    "    # like_data = tf.data.Dataset.list_files(likes_path+\"/*.mp3\")\n",
    "    # dislike_data = tf.data.Dataset.list_files(dislikes_path+\"/*.mp3\")\n",
    "    for x in range(200,len(like_files)):\n",
    "      file_name = like_files[x]\n",
    "      # print(str(x) + ' : ' + str(len(like_files)))\n",
    "      temp_path = os.path.join(likes_path, file_name)\n",
    "      # print(temp_path)\n",
    "      # print(os.path.exists(temp_path))\n",
    "      temp_tensor = split_clips(temp_path)\n",
    "      like_set = tf.concat([like_set, temp_tensor], 0)\n",
    "\n",
    "    print('done likes train')\n",
    "    print(like_set)\n",
    "\n",
    "    dislike_set = split_clips(dislikes_path+\"/sample_0.mp3\")\n",
    "    # print(dislike_set)\n",
    "    dislike_files = os.listdir(dislikes_path)\n",
    "    # like_data = tf.data.Dataset.list_files(likes_path+\"/*.mp3\")\n",
    "    # dislike_data = tf.data.Dataset.list_files(dislikes_path+\"/*.mp3\")\n",
    "    for x in range(200,len(dislike_files)):\n",
    "      # print(x)\n",
    "      file_name = dislike_files[x]\n",
    "      temp_path = os.path.join(dislikes_path, file_name)\n",
    "      # print(temp_path)\n",
    "      temp_tensor = split_clips(temp_path)\n",
    "      dislike_set = tf.concat([dislike_set, temp_tensor], 0)\n",
    "    print('done dislikes train')\n",
    "    print(dislike_set)\n",
    "\n",
    "    #convert to datasets\n",
    "    like_data = tf.data.Dataset.from_tensor_slices(like_set)\n",
    "    dislike_data = tf.data.Dataset.from_tensor_slices(dislike_set)\n",
    "    # like_data = like_data.map(split_clips)\n",
    "    # dislike_data = dislike_data.map(split_clips)\n",
    "    # print(like_data)\n",
    "    # #-----------------------\n",
    "    # dataset_to_numpy = list(like_data.as_numpy_iterator())\n",
    "    # shape = tf.shape(dataset_to_numpy)\n",
    "    # print(shape)\n",
    "    # #---------------------\n",
    "    # dislike_data = tf.concat(dislike_data, 2)\n",
    "    # like_data = tf.concat(like_data, 2)\n",
    "    like_spect = like_data.map(to_spectrogram, num_parallel_calls=AUTOTUNE)\n",
    "    dislike_spect = dislike_data.map(to_spectrogram, num_parallel_calls=AUTOTUNE)\n",
    "\n",
    "    #tensors are currently in groups of 6 and need to be flattened to 1 column of tensors\n",
    "    # like_spect = tf.stack(like_spect)\n",
    "    # dislike_spect = tf.stack(dislike_spect)\n",
    "\n",
    "    # like_shape = tf.shape(like_spect)\n",
    "    # dislike_shape = tf.shape(dislike_spect)\n",
    "    # like_spect = tf.reshape(like_spect, [])\n",
    "    # dislike_spect = tf.reshape([])\n",
    "\n",
    "    likes = tf.data.Dataset.zip((like_spect, tf.data.Dataset.from_tensor_slices(tf.ones(len(like_data)))))\n",
    "    dislikes = tf.data.Dataset.zip((dislike_spect, tf.data.Dataset.from_tensor_slices(tf.zeros(len(dislike_data)))))\n",
    "\n",
    "    train_data = likes.concatenate(dislikes)\n",
    "\n",
    "    train_data = train_data.cache().shuffle(buffer_size=100)\n",
    "    train_data = train_data.batch(4)\n",
    "    train_data = train_data.prefetch(buffer_size=AUTOTUNE)\n",
    "\n",
    "\n",
    "    return train_data"
   ]
  },
  {
   "cell_type": "code",
   "execution_count": null,
   "metadata": {
    "id": "XRQ4OUeOY3c7"
   },
   "outputs": [],
   "source": [
    "\n",
    "\n",
    "\n",
    "\n",
    "def prep_datasets_train2():\n",
    "    #create paths to training data\n",
    "\n",
    "    #create paths to training data\n",
    "    likes_path = os.path.join(\"/content/drive/MyDrive/prac_proj/data/liked_songs\", \"train_data\")\n",
    "    dislikes_path = os.path.join(\"/content/drive/MyDrive/prac_proj/data/disliked_songs\", \"train_data\")\n",
    "    # print(os.path.exists(likes_path+\"/sample_0.mp3\"))\n",
    "    # print(os.path.exists(dislikes_path))\n",
    "\n",
    "    #load relevant samples\n",
    "    # like_set = split_clips(likes_path+\"/sample_0.mp3\")\n",
    "    # print(like_set)\n",
    "    # like_files = os.listdir(likes_path)\n",
    "    # # like_data = tf.data.Dataset.list_files(likes_path+\"/*.mp3\")\n",
    "    # # dislike_data = tf.data.Dataset.list_files(dislikes_path+\"/*.mp3\")\n",
    "    # for x in range(1,len(like_files)):\n",
    "    #   file_name = like_files[x]\n",
    "    #   # print(str(x) + ' : ' + str(len(like_files)))\n",
    "    #   temp_path = os.path.join(likes_path, file_name)\n",
    "    #   # print(temp_path)\n",
    "    #   # print(os.path.exists(temp_path))\n",
    "    #   temp_tensor = split_clips(temp_path)\n",
    "    #   like_set = tf.concat([like_set, temp_tensor], 0)\n",
    "\n",
    "    # print('done likes train')\n",
    "    # print(like_set)\n",
    "\n",
    "    # dislike_set = split_clips(dislikes_path+\"/sample_0.mp3\")\n",
    "    # # print(dislike_set)\n",
    "    # dislike_files = os.listdir(dislikes_path)\n",
    "    like_data = tf.data.Dataset.list_files(likes_path+\"/*.mp3\")\n",
    "    dislike_data = tf.data.Dataset.list_files(dislikes_path+\"/*.mp3\")\n",
    "    likes = tf.data.Dataset.zip((like_data, tf.data.Dataset.from_tensor_slices(tf.ones(len(like_data)))))\n",
    "    dislikes = tf.data.Dataset.zip((dislike_data, tf.data.Dataset.from_tensor_slices(tf.zeros(len(dislike_data)))))\n",
    "    # for x in range(1,len(dislike_files)):\n",
    "    #   # print(x)\n",
    "    #   file_name = dislike_files[x]\n",
    "    #   temp_path = os.path.join(dislikes_path, file_name)\n",
    "    #   # print(temp_path)\n",
    "    #   temp_tensor = split_clips(temp_path)\n",
    "    #   dislike_set = tf.concat([dislike_set, temp_tensor], 0)\n",
    "    # print('done dislikes train')\n",
    "    # print(dislike_set)\n",
    "\n",
    "    #convert to datasets\n",
    "    # like_data = tf.data.Dataset.from_tensor_slices(like_set)\n",
    "    # dislike_data = tf.data.Dataset.from_tensor_slices(dislike_set)\n",
    "    # like_data = like_data.map(split_clips3)\n",
    "    # dislike_data = dislike_data.map(split_clips3)\n",
    "    # print(like_data)\n",
    "    # #-----------------------\n",
    "    # dataset_to_numpy = list(like_data.as_numpy_iterator())\n",
    "    # shape = tf.shape(dataset_to_numpy)\n",
    "    # print(shape)\n",
    "    # #---------------------\n",
    "    # dislike_data = tf.concat(dislike_data, 2)\n",
    "    # like_data = tf.concat(like_data, 2)\n",
    "    like_spect = likes.map(to_spectrogram2, num_parallel_calls=AUTOTUNE)\n",
    "    dislike_spect = dislikes.map(to_spectrogram2, num_parallel_calls=AUTOTUNE)\n",
    "\n",
    "    #tensors are currently in groups of 6 and need to be flattened to 1 column of tensors\n",
    "    # like_spect = tf.stack(like_spect)\n",
    "    # dislike_spect = tf.stack(dislike_spect)\n",
    "\n",
    "    # like_shape = tf.shape(like_spect)\n",
    "    # dislike_shape = tf.shape(dislike_spect)\n",
    "    # like_spect = tf.reshape(like_spect, [])\n",
    "    # dislike_spect = tf.reshape([])\n",
    "\n",
    "\n",
    "    train_data = like_spect.concatenate(dislike_spect)\n",
    "\n",
    "    train_data = train_data.shuffle(buffer_size=100)\n",
    "    train_data = train_data.batch(4)\n",
    "    train_data = train_data.prefetch(buffer_size=AUTOTUNE)\n",
    "\n",
    "\n",
    "    return train_data"
   ]
  },
  {
   "cell_type": "code",
   "execution_count": null,
   "metadata": {
    "colab": {
     "base_uri": "https://localhost:8080/"
    },
    "id": "L0VwON4q-5Vb",
    "outputId": "f791d632-1557-4189-d4be-8e3e341068f4"
   },
   "outputs": [
    {
     "name": "stdout",
     "output_type": "stream",
     "text": [
      "tf.Tensor(\n",
      "[[ 0.00460815  0.00830078  0.00643921 ...  0.27670288  0.17132568\n",
      "   0.2767334 ]\n",
      " [ 0.17929077  0.25247192  0.17788696 ...  0.2508545   0.5161133\n",
      "   0.18655396]\n",
      " [ 0.2713623  -0.07861328 -0.23501587 ... -0.08059692 -0.11813354\n",
      "  -0.06323242]\n",
      " [-0.09588623 -0.06890869 -0.0776062  ... -0.21151733 -0.19491577\n",
      "  -0.21258545]\n",
      " [-0.23760986 -0.17773438 -0.24804688 ... -0.30145264 -0.44662476\n",
      "  -0.33255005]\n",
      " [-0.51016235 -0.37460327 -0.536438   ... -0.00628662  0.00143433\n",
      "  -0.00479126]], shape=(6, 436776), dtype=float32)\n",
      "done likes train\n",
      "tf.Tensor(\n",
      "[[ 0.00460815  0.00830078  0.00643921 ...  0.27670288  0.17132568\n",
      "   0.2767334 ]\n",
      " [ 0.17929077  0.25247192  0.17788696 ...  0.2508545   0.5161133\n",
      "   0.18655396]\n",
      " [ 0.2713623  -0.07861328 -0.23501587 ... -0.08059692 -0.11813354\n",
      "  -0.06323242]\n",
      " ...\n",
      " [-0.09588623 -0.06890869 -0.0776062  ... -0.21151733 -0.19491577\n",
      "  -0.21258545]\n",
      " [-0.23760986 -0.17773438 -0.24804688 ... -0.30145264 -0.44662476\n",
      "  -0.33255005]\n",
      " [-0.51016235 -0.37460327 -0.536438   ... -0.00628662  0.00143433\n",
      "  -0.00479126]], shape=(4266, 436776), dtype=float32)\n",
      "done dislikes train\n",
      "tf.Tensor(\n",
      "[[ 0.00460815  0.00830078  0.00643921 ...  0.27670288  0.17132568\n",
      "   0.2767334 ]\n",
      " [ 0.17929077  0.25247192  0.17788696 ...  0.2508545   0.5161133\n",
      "   0.18655396]\n",
      " [ 0.2713623  -0.07861328 -0.23501587 ... -0.08059692 -0.11813354\n",
      "  -0.06323242]\n",
      " ...\n",
      " [-0.09588623 -0.06890869 -0.0776062  ... -0.21151733 -0.19491577\n",
      "  -0.21258545]\n",
      " [-0.23760986 -0.17773438 -0.24804688 ... -0.30145264 -0.44662476\n",
      "  -0.33255005]\n",
      " [-0.51016235 -0.37460327 -0.536438   ... -0.00628662  0.00143433\n",
      "  -0.00479126]], shape=(4992, 436776), dtype=float32)\n"
     ]
    }
   ],
   "source": [
    "train_data = prep_datasets_train()"
   ]
  },
  {
   "cell_type": "markdown",
   "metadata": {
    "id": "UpOp7rhJbNu9"
   },
   "source": [
    "DO NOT RUN SAVE FOR DATASETS IT IS BROKEN"
   ]
  },
  {
   "cell_type": "code",
   "execution_count": null,
   "metadata": {
    "id": "vKLFvEPQGdb3"
   },
   "outputs": [],
   "source": [
    "#save train dataset to files so don't have to reprocess into the seperate sets\n",
    "# save_path_train = os.path.join('drive', 'MyDrive', 'prac_proj', 'saved_data_train')\n",
    "# train_data.save(save_path_train)"
   ]
  },
  {
   "cell_type": "code",
   "execution_count": null,
   "metadata": {
    "id": "MDVPFX9IL5K8"
   },
   "outputs": [],
   "source": [
    "def prep_datasets_test():\n",
    "    likes_path = os.path.join(\"/content/drive/MyDrive/prac_proj/data/liked_songs\", \"test_data\")\n",
    "    dislikes_path = os.path.join(\"/content/drive/MyDrive/prac_proj/data/disliked_songs\", \"test_data\")\n",
    "    # print(os.path.exists(likes_path))\n",
    "    # print(os.path.exists(dislikes_path))\n",
    "\n",
    "\n",
    "    #     #create paths to training data\n",
    "    # likes_path = os.path.join(\"/content/drive/MyDrive/practicum_proj/data/liked_songs\", \"train_data\")\n",
    "    # dislikes_path = os.path.join(\"/content/drive/MyDrive/practicum_proj/data/disliked_songs\", \"train_data\")\n",
    "    # print(os.path.exists(likes_path+\"/sample_0.mp3\"))\n",
    "    # print(os.path.exists(dislikes_path))\n",
    "\n",
    "    #load relevant samples\n",
    "    like_set = split_clips(likes_path+\"/sample_0.mp3\")\n",
    "    print(like_set)\n",
    "    like_files = os.listdir(likes_path)\n",
    "    # like_data = tf.data.Dataset.list_files(likes_path+\"/*.mp3\")\n",
    "    # dislike_data = tf.data.Dataset.list_files(dislikes_path+\"/*.mp3\")\n",
    "    for x in range(850,len(like_files)):\n",
    "      file_name = like_files[x]\n",
    "      # print(file_name)\n",
    "      temp_path = os.path.join(likes_path, file_name)\n",
    "      # print(temp_path)\n",
    "      # print(os.path.exists(temp_path))\n",
    "      temp_tensor = split_clips(temp_path)\n",
    "      like_set = tf.concat([like_set, temp_tensor], 0)\n",
    "    print('done likes test')\n",
    "    print(like_set)\n",
    "\n",
    "    dislike_set = split_clips(dislikes_path+\"/sample_0.mp3\")\n",
    "    # print(dislike_set)\n",
    "    dislike_files = os.listdir(dislikes_path)\n",
    "    # like_data = tf.data.Dataset.list_files(likes_path+\"/*.mp3\")\n",
    "    # dislike_data = tf.data.Dataset.list_files(dislikes_path+\"/*.mp3\")\n",
    "    for x in range(850,len(like_files)):\n",
    "      file_name = dislike_files[x]\n",
    "      temp_path = os.path.join(dislikes_path, file_name)\n",
    "      # print(temp_path)\n",
    "      temp_tensor = split_clips(temp_path)\n",
    "      dislikeset = tf.concat([dislike_set, temp_tensor], 0)\n",
    "    print('done dislikes test')\n",
    "    print(dislike_set)\n",
    "\n",
    "    #convert to datasets\n",
    "    like_data = tf.data.Dataset.from_tensor_slices(like_set)\n",
    "    dislike_data = tf.data.Dataset.from_tensor_slices(dislike_set)\n",
    "\n",
    "\n",
    "    # #create relevant test datasets\n",
    "    # like_data = tf.data.Dataset.list_files(likes_path+\"/*.mp3\")\n",
    "    # dislike_data = tf.data.Dataset.list_files(dislikes_path+\"/*.mp3\")\n",
    "    # like_data = like_data.map(split_clips)\n",
    "    # dislike_data = dislike_data.map(split_clips)\n",
    "    # # #-----------------------\n",
    "    # # dataset_to_numpy = list(like_data.as_numpy_iterator())\n",
    "    # # shape = tf.shape(dataset_to_numpy)\n",
    "    # # print(shape)\n",
    "    # # #---------------------\n",
    "    # # dislike_data = tf.concat(dislike_data, 2)\n",
    "    # like_data = tf.concat(like_data, 2)\n",
    "    like_spect = like_data.map(to_spectrogram, num_parallel_calls=AUTOTUNE)\n",
    "    dislike_spect = dislike_data.map(to_spectrogram, num_parallel_calls=AUTOTUNE)\n",
    "\n",
    "    # # #tensors are currently in groups of 6 and need to be flattened to 1 column of tensors\n",
    "    # # like_spect = tf.stack(like_spect)\n",
    "    # # dislike_spect = tf.stack(dislike_spect)\n",
    "\n",
    "    # # like_shape = tf.shape(like_spect)\n",
    "    # # dislike_shape = tf.shape(dislike_spect)\n",
    "    # # like_spect = tf.reshape(like_spect, [])\n",
    "    # # dislike_spect = tf.reshape([])\n",
    "\n",
    "    likes = tf.data.Dataset.zip((like_spect, tf.data.Dataset.from_tensor_slices(tf.ones(len(like_data)))))\n",
    "    dislikes = tf.data.Dataset.zip((dislike_spect, tf.data.Dataset.from_tensor_slices(tf.zeros(len(dislike_data)))))\n",
    "\n",
    "    test_data = likes.concatenate(dislikes)\n",
    "    test_data = test_data.shuffle(buffer_size=100).batch(4).prefetch(buffer_size=AUTOTUNE)\n",
    "    return test_data"
   ]
  },
  {
   "cell_type": "code",
   "execution_count": null,
   "metadata": {
    "id": "bJkiTxPyZ6WW"
   },
   "outputs": [],
   "source": [
    "def prep_datasets_test2():\n",
    "    likes_path = os.path.join(\"/content/drive/MyDrive/prac_proj/data/liked_songs\", \"test_data\")\n",
    "    dislikes_path = os.path.join(\"/content/drive/MyDrive/prac_proj/data/disliked_songs\", \"test_data\")\n",
    "    # print(os.path.exists(likes_path))\n",
    "    # print(os.path.exists(dislikes_path))\n",
    "\n",
    "\n",
    "    #     #create paths to training data\n",
    "    # likes_path = os.path.join(\"/content/drive/MyDrive/practicum_proj/data/liked_songs\", \"train_data\")\n",
    "    # dislikes_path = os.path.join(\"/content/drive/MyDrive/practicum_proj/data/disliked_songs\", \"train_data\")\n",
    "    # print(os.path.exists(likes_path+\"/sample_0.mp3\"))\n",
    "    # print(os.path.exists(dislikes_path))\n",
    "\n",
    "    #load relevant samples\n",
    "    # like_set = split_clips(likes_path+\"/sample_0.mp3\")\n",
    "    # print(like_set)\n",
    "    # like_files = os.listdir(likes_path)\n",
    "    # # like_data = tf.data.Dataset.list_files(likes_path+\"/*.mp3\")\n",
    "    # # dislike_data = tf.data.Dataset.list_files(dislikes_path+\"/*.mp3\")\n",
    "    # for x in range(2,len(like_files)):\n",
    "    #   file_name = like_files[x]\n",
    "    #   # print(file_name)\n",
    "    #   temp_path = os.path.join(likes_path, file_name)\n",
    "    #   # print(temp_path)\n",
    "    #   # print(os.path.exists(temp_path))\n",
    "    #   temp_tensor = split_clips(temp_path)\n",
    "    #   like_set = tf.concat([like_set, temp_tensor], 0)\n",
    "    # print('done likes test')\n",
    "    # print(like_set)\n",
    "\n",
    "    # dislike_set = split_clips(dislikes_path+\"/sample_0.mp3\")\n",
    "    # # print(dislike_set)\n",
    "    # dislike_files = os.listdir(dislikes_path)\n",
    "    like_files = tf.data.Dataset.list_files(likes_path+\"/*.mp3\")\n",
    "    dislike_files = tf.data.Dataset.list_files(dislikes_path+\"/*.mp3\")\n",
    "\n",
    "    likes = tf.data.Dataset.zip((like_files, tf.data.Dataset.from_tensor_slices(tf.ones(len(like_files)))))\n",
    "    dislikes = tf.data.Dataset.zip((dislike_files, tf.data.Dataset.from_tensor_slices(tf.zeros(len(dislike_files)))))\n",
    "\n",
    "    # for x in range(2,len(like_files)):\n",
    "    #   file_name = dislike_files[x]\n",
    "    #   temp_path = os.path.join(dislikes_path, file_name)\n",
    "    #   # print(temp_path)\n",
    "    #   temp_tensor = split_clips(temp_path)\n",
    "    #   dislikeset = tf.concat([dislike_set, temp_tensor], 0)\n",
    "    # print('done dislikes test')\n",
    "    # print(dislike_set)\n",
    "\n",
    "    #convert to datasets\n",
    "    # like_data = tf.data.Dataset.from_tensor_slices(like_set)\n",
    "    # dislike_data = tf.data.Dataset.from_tensor_slices(dislike_set)\n",
    "\n",
    "\n",
    "    # #create relevant test datasets\n",
    "    # like_data = tf.data.Dataset.list_files(likes_path+\"/*.mp3\")\n",
    "    # dislike_data = tf.data.Dataset.list_files(dislikes_path+\"/*.mp3\")\n",
    "    # like_data = like_files.map(split_clips3)\n",
    "    # dislike_data = dislike_files.map(split_clips3)\n",
    "    # # #-----------------------\n",
    "    # # dataset_to_numpy = list(like_data.as_numpy_iterator())\n",
    "    # # shape = tf.shape(dataset_to_numpy)\n",
    "    # # print(shape)\n",
    "    # # #---------------------\n",
    "    # # dislike_data = tf.concat(dislike_data, 2)\n",
    "    # like_data = tf.concat(like_data, 2)\n",
    "    like_spect = likes.map(to_spectrogram2, num_parallel_calls=AUTOTUNE)\n",
    "    dislike_spect = dislikes.map(to_spectrogram2, num_parallel_calls=AUTOTUNE)\n",
    "\n",
    "    # # #tensors are currently in groups of 6 and need to be flattened to 1 column of tensors\n",
    "    # # like_spect = tf.stack(like_spect)\n",
    "    # # dislike_spect = tf.stack(dislike_spect)\n",
    "\n",
    "    # # like_shape = tf.shape(like_spect)\n",
    "    # # dislike_shape = tf.shape(dislike_spect)\n",
    "    # # like_spect = tf.reshape(like_spect, [])\n",
    "    # # dislike_spect = tf.reshape([])\n",
    "    test_data = like_spect.concatenate(dislike_spect)\n",
    "    test_data = test_data.shuffle(buffer_size=100).batch(4).prefetch(buffer_size=AUTOTUNE)\n",
    "    return test_data"
   ]
  },
  {
   "cell_type": "code",
   "execution_count": null,
   "metadata": {
    "colab": {
     "base_uri": "https://localhost:8080/"
    },
    "id": "4G-AAyI7MEOd",
    "outputId": "a4c6860f-dc94-48ec-e53f-b5928f0eae69"
   },
   "outputs": [
    {
     "name": "stdout",
     "output_type": "stream",
     "text": [
      "tf.Tensor(\n",
      "[[ 0.00460815  0.00830078  0.00643921 ...  0.27670288  0.17132568\n",
      "   0.2767334 ]\n",
      " [ 0.17929077  0.25247192  0.17788696 ...  0.2508545   0.5161133\n",
      "   0.18655396]\n",
      " [ 0.2713623  -0.07861328 -0.23501587 ... -0.08059692 -0.11813354\n",
      "  -0.06323242]\n",
      " [-0.09588623 -0.06890869 -0.0776062  ... -0.21151733 -0.19491577\n",
      "  -0.21258545]\n",
      " [-0.23760986 -0.17773438 -0.24804688 ... -0.30145264 -0.44662476\n",
      "  -0.33255005]\n",
      " [-0.51016235 -0.37460327 -0.536438   ... -0.00628662  0.00143433\n",
      "  -0.00479126]], shape=(6, 436776), dtype=float32)\n",
      "done likes test\n",
      "tf.Tensor(\n",
      "[[ 0.00460815  0.00830078  0.00643921 ...  0.27670288  0.17132568\n",
      "   0.2767334 ]\n",
      " [ 0.17929077  0.25247192  0.17788696 ...  0.2508545   0.5161133\n",
      "   0.18655396]\n",
      " [ 0.2713623  -0.07861328 -0.23501587 ... -0.08059692 -0.11813354\n",
      "  -0.06323242]\n",
      " ...\n",
      " [-0.09588623 -0.06890869 -0.0776062  ... -0.21151733 -0.19491577\n",
      "  -0.21258545]\n",
      " [-0.23760986 -0.17773438 -0.24804688 ... -0.30145264 -0.44662476\n",
      "  -0.33255005]\n",
      " [-0.51016235 -0.37460327 -0.536438   ... -0.00628662  0.00143433\n",
      "  -0.00479126]], shape=(366, 436776), dtype=float32)\n",
      "done dislikes test\n",
      "tf.Tensor(\n",
      "[[ 0.00460815  0.00830078  0.00643921 ...  0.27670288  0.17132568\n",
      "   0.2767334 ]\n",
      " [ 0.17929077  0.25247192  0.17788696 ...  0.2508545   0.5161133\n",
      "   0.18655396]\n",
      " [ 0.2713623  -0.07861328 -0.23501587 ... -0.08059692 -0.11813354\n",
      "  -0.06323242]\n",
      " [-0.09588623 -0.06890869 -0.0776062  ... -0.21151733 -0.19491577\n",
      "  -0.21258545]\n",
      " [-0.23760986 -0.17773438 -0.24804688 ... -0.30145264 -0.44662476\n",
      "  -0.33255005]\n",
      " [-0.51016235 -0.37460327 -0.536438   ... -0.00628662  0.00143433\n",
      "  -0.00479126]], shape=(6, 436776), dtype=float32)\n"
     ]
    }
   ],
   "source": [
    "test_data = prep_datasets_test()"
   ]
  },
  {
   "cell_type": "markdown",
   "metadata": {
    "id": "_ZYzrcUAbWMY"
   },
   "source": [
    "DO NOT RUN SAVES THEY ARE BROKEN"
   ]
  },
  {
   "cell_type": "code",
   "execution_count": null,
   "metadata": {
    "id": "uUseKz7LLHif"
   },
   "outputs": [],
   "source": [
    "#save test dataset to files so don't have to reprocess into the seperate sets\n",
    "# save_path_test = os.path.join('drive', 'MyDrive', 'prac_proj', 'saved_data_test')\n",
    "# test_data.save(save_path_test)"
   ]
  },
  {
   "cell_type": "markdown",
   "metadata": {
    "id": "BabZ-ixeGin5"
   },
   "source": [
    "prepare filepaths into csv"
   ]
  },
  {
   "cell_type": "markdown",
   "metadata": {
    "id": "2bA4SvSYTDRg"
   },
   "source": [
    "No need to run below cells files have already been created"
   ]
  },
  {
   "cell_type": "code",
   "execution_count": null,
   "metadata": {
    "id": "vzUAH69vRqRu"
   },
   "outputs": [],
   "source": [
    "# import pandas as pd"
   ]
  },
  {
   "cell_type": "code",
   "execution_count": null,
   "metadata": {
    "id": "yNLNbzTuGhFZ"
   },
   "outputs": [],
   "source": [
    "# _BASE_DIR = '/content/drive/MyDrive/prac_proj/data'\n",
    "# train_likes_path = os.path.join(\"/content/drive/MyDrive/prac_proj/data/liked_songs\", \"train_data\")\n",
    "# train_dislikes_path = os.path.join(\"/content/drive/MyDrive/prac_proj/data/disliked_songs\", \"train_data\")\n",
    "# like_files = os.listdir(train_likes_path)\n",
    "# # print(train_likes_path)\n",
    "# for x in range(len(like_files)):\n",
    "#   # print(like_files[x])\n",
    "#   like_files[x] = train_likes_path + '/' + like_files[x]\n",
    "#   # print(like_files[x])\n",
    "# like_files = np.array(like_files)\n",
    "# ones = np.ones(np.shape(like_files))\n",
    "# like_files = np.vstack((like_files, ones))\n",
    "# like_files = np.delete(like_files, 0)\n",
    "\n",
    "# dislike_files = os.listdir(train_dislikes_path)\n",
    "# for x in range(len(dislike_files)):\n",
    "#   dislike_files[x] = train_dislikes_path + '/' + dislike_files[x]\n",
    "# dislike_files = np.array(dislike_files)\n",
    "# zeros = np.zeros(np.shape(dislike_files))\n",
    "# dislike_files = np.vstack((dislike_files, zeros))\n",
    "# dislike_files = np.delete(dislike_files, 0)\n",
    "\n",
    "# train_files = np.hstack((like_files, dislike_files))\n",
    "# # print(train_files[0][0])\n",
    "# print(train_files)\n",
    "# df = pd.DataFrame(train_files)\n",
    "# df.to_csv((_BASE_DIR + '/train_paths.csv'))\n",
    "# # np.savetxt((_BASE_DIR + '/train_paths.csv'), train_files, delimiter=',')\n",
    "\n",
    "# test_likes_path = os.path.join(\"/content/drive/MyDrive/prac_proj/data/liked_songs\", \"test_data\")\n",
    "# test_dislikes_path = os.path.join(\"/content/drive/MyDrive/prac_proj/data/disliked_songs\", \"test_data\")\n",
    "# like_files = os.listdir(test_likes_path)\n",
    "# for x in range(len(like_files)):\n",
    "#   like_files[x] = test_likes_path + '/' + like_files[x]\n",
    "# like_files = np.array(like_files)\n",
    "# ones = np.ones(np.shape(like_files))\n",
    "# like_files = np.vstack((like_files, ones))\n",
    "# like_files = np.delete(like_files, 0)\n",
    "\n",
    "# dislike_files = os.listdir(test_dislikes_path)\n",
    "# for x in range(len(dislike_files)):\n",
    "#   dislike_files[x] = test_dislikes_path + '/' + dislike_files[x]\n",
    "# dislike_files = np.array(dislike_files)\n",
    "# zeros = np.zeros(np.shape(dislike_files))\n",
    "# dislike_files = np.vstack((dislike_files, zeros))\n",
    "# dislike_files = np.delete(dislike_files, 0)\n",
    "\n",
    "# test_files = np.hstack((like_files, dislike_files))\n",
    "# print(test_files)\n",
    "# df = pd.DataFrame(test_files)\n",
    "# df.to_csv((_BASE_DIR + '/test_paths.csv'))\n",
    "# # np.savetxt((_BASE_DIR + '/test_paths.csv'), train_files, delimiter=',')"
   ]
  },
  {
   "cell_type": "markdown",
   "metadata": {
    "id": "qxALiT1bEk1_"
   },
   "source": [
    "SHARDING (code from https://towardsdatascience.com/how-to-build-efficient-audio-data-pipelines-with-tensorflow-2-0-b3133474c3c1)"
   ]
  },
  {
   "cell_type": "code",
   "execution_count": null,
   "metadata": {
    "id": "plGQm7MFEofN"
   },
   "outputs": [],
   "source": [
    "import argparse\n",
    "import math\n",
    "import pandas as pd\n",
    "\n",
    "_BASE_DIR = '/content/drive/MyDrive/prac_proj/data'\n",
    "\n",
    "_DEFAULT_META_CSV = os.path.join(_BASE_DIR, 'meta.csv')\n",
    "_DEFAULT_OUTPUT_DIR = os.path.join(_BASE_DIR, 'tfrecords')\n",
    "\n",
    "# _DEFAULT_DURATION = 4  # seconds\n",
    "_DEFAULT_SAMPLE_RATE = 44100\n",
    "\n",
    "_DEFAULT_TEST_SIZE = 0.1\n",
    "# _DEFAULT_VAL_SIZE = 0.1\n",
    "\n",
    "_DEFAULT_NUM_SHARDS_TRAIN = 16\n",
    "_DEFAULT_NUM_SHARDS_TEST = 2\n",
    "# _DEFAULT_NUM_SHARDS_VAL = 2\n",
    "\n",
    "_SEED = 1\n",
    "\n",
    "\n",
    "def _float_feature(list_of_floats):  # float32\n",
    "    return tf.train.Feature(float_list=tf.train.FloatList(value=list_of_floats))\n",
    "\n",
    "\n",
    "def _int64_feature(value):\n",
    "    return tf.train.Feature(int64_list=tf.train.Int64List(value=[value]))\n",
    "\n",
    "\n",
    "class TFRecordsConverter:\n",
    "    \"\"\"Convert audio to TFRecords.\"\"\"\n",
    "    def __init__(self, meta, output_dir, n_shards_train, n_shards_test,\n",
    "                duration, sample_rate, test_size):\n",
    "        self.output_dir = output_dir\n",
    "        self.n_shards_train = n_shards_train\n",
    "        self.n_shards_test = n_shards_test\n",
    "        # self.n_shards_val = n_shards_val\n",
    "        self.duration = duration\n",
    "        self.sample_rate = sample_rate\n",
    "\n",
    "        if not os.path.exists(self.output_dir):\n",
    "            os.makedirs(self.output_dir)\n",
    "\n",
    "        df = pd.read_csv(meta, index_col=0)\n",
    "        # Shuffle data by \"sampling\" the entire data-frame\n",
    "        self.df = df.sample(frac=1, random_state=_SEED)\n",
    "\n",
    "        n_samples = len(df)\n",
    "        self.n_test = math.ceil(n_samples * test_size)\n",
    "        # self.n_val = math.ceil(n_samples * val_size)\n",
    "        self.n_train = n_samples - self.n_test\n",
    "\n",
    "    def _get_shard_path(self, split, shard_id, shard_size):\n",
    "        return os.path.join(self.output_dir,\n",
    "                            '{}-{:03d}-{}.tfrecord'.format(split, shard_id,\n",
    "                                                           shard_size))\n",
    "\n",
    "    def _write_tfrecord_file(self, shard_path, indices):\n",
    "        \"\"\"Write TFRecord file.\"\"\"\n",
    "        with tf.io.TFRecordWriter(shard_path, options='ZLIB') as out:\n",
    "            for index in indices:\n",
    "                file_path = self.df.file_path.iloc[index]\n",
    "                label = self.df.label.iloc[index]\n",
    "\n",
    "                raw_audio = tf.io.read_file(file_path)\n",
    "                audio, sample_rate = tf.audio.decode_wav(\n",
    "                    raw_audio,\n",
    "                    desired_channels=1,  # mono\n",
    "                    desired_samples=self.sample_rate * self.duration)\n",
    "\n",
    "                # Example is a flexible message type that contains key-value\n",
    "                # pairs, where each key maps to a Feature message. Here, each\n",
    "                # Example contains two features: A FloatList for the decoded\n",
    "                # audio data and an Int64List containing the corresponding\n",
    "                # label's index.\n",
    "                example = tf.train.Example(features=tf.train.Features(feature={\n",
    "                    'audio': _float_feature(audio.numpy().flatten().tolist()),\n",
    "                    'label': _int64_feature(label)}))\n",
    "\n",
    "                out.write(example.SerializeToString())\n",
    "\n",
    "    def convert(self):\n",
    "        \"\"\"Convert to TFRecords.\n",
    "        Partition data into training, testing and validation sets. Then,\n",
    "        divide each data set into the specified number of TFRecords shards.\n",
    "        \"\"\"\n",
    "        splits = ('train', 'test')\n",
    "        split_sizes = (self.n_train, self.n_test)\n",
    "        split_n_shards = (self.n_shards_train, self.n_shards_test)\n",
    "\n",
    "        offset = 0\n",
    "        for split, size, n_shards in zip(splits, split_sizes, split_n_shards):\n",
    "            print('Converting {} set into TFRecord shards...'.format(split))\n",
    "            shard_size = math.ceil(size / n_shards)\n",
    "            cumulative_size = offset + size\n",
    "            for shard_id in range(1, n_shards + 1):\n",
    "                step_size = min(shard_size, cumulative_size - offset)\n",
    "                shard_path = self._get_shard_path(split, shard_id, step_size)\n",
    "                # Generate a subset of indices to select only a subset of\n",
    "                # audio-files/labels for the current shard.\n",
    "                file_indices = np.arange(offset, offset + step_size)\n",
    "                self._write_tfrecord_file(shard_path, file_indices)\n",
    "                offset += step_size\n",
    "\n",
    "        print('Number of training examples: {}'.format(self.n_train))\n",
    "        print('Number of testing examples: {}'.format(self.n_test))\n",
    "        # print('Number of validation examples: {}'.format(self.n_val))\n",
    "        print('TFRecord files saved to {}'.format(self.output_dir))\n",
    "\n",
    "\n",
    "def parse_args():\n",
    "    parser = argparse.ArgumentParser()\n",
    "    parser.add_argument('-i', '--meta-data-csv', type=str, dest='meta_csv',\n",
    "                        default=_DEFAULT_META_CSV,\n",
    "                        help='File containing audio file-paths and '\n",
    "                             'corresponding labels. (default: %(default)s)')\n",
    "    parser.add_argument('-o', '--output-dir', type=str, dest='output_dir',\n",
    "                        default=_DEFAULT_OUTPUT_DIR,\n",
    "                        help='Output directory to store TFRecord files.'\n",
    "                             '(default: %(default)s)')\n",
    "    parser.add_argument('--num-shards-train', type=int,\n",
    "                        dest='n_shards_train',\n",
    "                        default=_DEFAULT_NUM_SHARDS_TRAIN,\n",
    "                        help='Number of shards to divide training set '\n",
    "                             'TFRecords into. (default: %(default)s)')\n",
    "    parser.add_argument('--num-shards-test', type=int,\n",
    "                        dest='n_shards_test',\n",
    "                        default=_DEFAULT_NUM_SHARDS_TEST,\n",
    "                        help='Number of shards to divide testing set '\n",
    "                             'TFRecords into. (default: %(default)s)')\n",
    "    parser.add_argument('--duration', type=int,\n",
    "                        dest='duration',\n",
    "                        default=_DEFAULT_DURATION,\n",
    "                        help='The duration for the resulting fixed-length '\n",
    "                             'audio-data in seconds. Longer files are '\n",
    "                             'truncated. Shorter files are zero-padded. '\n",
    "                             '(default: %(default)s)')\n",
    "    parser.add_argument('--sample-rate', type=int,\n",
    "                        dest='sample_rate',\n",
    "                        default=_DEFAULT_SAMPLE_RATE,\n",
    "                        help='The _actual_ sample-rate of wav-files to '\n",
    "                             'convert. Re-sampling is not yet supported. '\n",
    "                             '(default: %(default)s)')\n",
    "    parser.add_argument('--test-size', type=float,\n",
    "                        dest='test_size',\n",
    "                        default=_DEFAULT_TEST_SIZE,\n",
    "                        help='Fraction of examples in the testing set. '\n",
    "                             '(default: %(default)s)')\n",
    "\n",
    "    return parser.parse_args()\n",
    "\n",
    "\n",
    "def main(args):\n",
    "    converter = TFRecordsConverter(args.meta_csv,\n",
    "                                   args.output_dir,\n",
    "                                   args.n_shards_train,\n",
    "                                   args.n_shards_test,\n",
    "                                  #  args.n_shards_val,\n",
    "                                   args.duration,\n",
    "                                   args.sample_rate,\n",
    "                                   args.test_size\n",
    "                                  # ,args.val_size\n",
    "                                   )\n",
    "    converter.convert()\n",
    "\n",
    "\n",
    "# if __name__ == '__main__':\n",
    "#     main(parse_args())"
   ]
  },
  {
   "cell_type": "code",
   "execution_count": null,
   "metadata": {
    "id": "vNwbdVgrfDr4"
   },
   "outputs": [],
   "source": [
    "# for pick_spectrograms, pick_spect_labels in train_data.take(1):\n",
    "#   break\n",
    "# print(tf.shape(train_data))"
   ]
  },
  {
   "cell_type": "code",
   "execution_count": null,
   "metadata": {
    "id": "rHrdvqmoQ_ef"
   },
   "outputs": [],
   "source": [
    "from tensorflow.keras.models import Sequential\n",
    "from tensorflow.keras import layers"
   ]
  },
  {
   "cell_type": "markdown",
   "metadata": {
    "id": "dsJvvjc7eBAy"
   },
   "source": [
    "Specify the model and parameters"
   ]
  },
  {
   "cell_type": "code",
   "execution_count": null,
   "metadata": {
    "colab": {
     "base_uri": "https://localhost:8080/"
    },
    "id": "W8n8OllNS9nO",
    "outputId": "51d570a6-8b61-4a05-9814-d974e26ba163"
   },
   "outputs": [
    {
     "name": "stdout",
     "output_type": "stream",
     "text": [
      "Model: \"sequential\"\n",
      "_________________________________________________________________\n",
      " Layer (type)                Output Shape              Param #   \n",
      "=================================================================\n",
      " resizing (Resizing)         (None, 512, 256, 1)       0         \n",
      "                                                                 \n",
      " normalization (Normalizati  (None, 512, 256, 1)       3         \n",
      " on)                                                             \n",
      "                                                                 \n",
      " conv2d (Conv2D)             (None, 510, 254, 32)      320       \n",
      "                                                                 \n",
      " conv2d_1 (Conv2D)           (None, 508, 252, 64)      18496     \n",
      "                                                                 \n",
      " max_pooling2d (MaxPooling2  (None, 254, 126, 64)      0         \n",
      " D)                                                              \n",
      "                                                                 \n",
      " dropout (Dropout)           (None, 254, 126, 64)      0         \n",
      "                                                                 \n",
      " flatten (Flatten)           (None, 2048256)           0         \n",
      "                                                                 \n",
      " dense (Dense)               (None, 128)               262176896 \n",
      "                                                                 \n",
      " dense_1 (Dense)             (None, 1)                 129       \n",
      "                                                                 \n",
      " dropout_1 (Dropout)         (None, 1)                 0         \n",
      "                                                                 \n",
      "=================================================================\n",
      "Total params: 262195844 (1000.20 MB)\n",
      "Trainable params: 262195841 (1000.20 MB)\n",
      "Non-trainable params: 3 (16.00 Byte)\n",
      "_________________________________________________________________\n"
     ]
    }
   ],
   "source": [
    "input_shape = (1707, 257, 1)\n",
    "# print('Input shape:', input_shape)\n",
    "\n",
    "# Instantiate the `tf.keras.layers.Normalization` layer.\n",
    "norm_layer = layers.Normalization()\n",
    "# Fit the state of the layer to the spectrograms\n",
    "# with `Normalization.adapt`.\n",
    "norm_layer.adapt(data=train_data.map(map_func=lambda spec, label: spec))\n",
    "\n",
    "model = Sequential([\n",
    "    layers.Input(shape=input_shape),\n",
    "    # Downsample the input.\n",
    "    # layers.Resizing(512, 256),\n",
    "    # Normalize.\n",
    "    norm_layer,\n",
    "    layers.Conv2D(32, (3,3), activation='relu'),\n",
    "    layers.Conv2D(64, (3,3), activation='relu'),\n",
    "    layers.MaxPooling2D(),\n",
    "    layers.Dropout(0.25),\n",
    "    layers.Flatten(),\n",
    "    layers.Dense(128, activation='relu'),\n",
    "    layers.Dense(1, activation='sigmoid'),\n",
    "    layers.Dropout(0.5),\n",
    "])\n",
    "\n",
    "model.summary()"
   ]
  },
  {
   "cell_type": "markdown",
   "metadata": {
    "id": "pJdM4qqHeFjS"
   },
   "source": [
    "compile the model"
   ]
  },
  {
   "cell_type": "code",
   "execution_count": null,
   "metadata": {
    "id": "fk5Tjd8Bd_tY"
   },
   "outputs": [],
   "source": [
    "model.compile(\n",
    "    optimizer=tf.keras.optimizers.Adam(),\n",
    "    loss=tf.keras.losses.BinaryCrossentropy(from_logits=True),\n",
    "    metrics=['accuracy'],\n",
    ")"
   ]
  },
  {
   "cell_type": "markdown",
   "metadata": {
    "id": "IsEfqn2jvaFw"
   },
   "source": [
    "Train the model"
   ]
  },
  {
   "cell_type": "code",
   "execution_count": null,
   "metadata": {
    "id": "bme6sHvzvZvG"
   },
   "outputs": [],
   "source": [
    "EPOCHS = 50\n",
    "history = model.fit(\n",
    "    train_data,\n",
    "    validation_data=test_data,\n",
    "    epochs=EPOCHS\n",
    ")"
   ]
  },
  {
   "cell_type": "markdown",
   "metadata": {
    "id": "GYGzRV5-DvVy"
   },
   "source": [
    "save the model"
   ]
  },
  {
   "cell_type": "code",
   "execution_count": null,
   "metadata": {
    "id": "F4Atj7zwrhqd"
   },
   "outputs": [],
   "source": [
    "model.save(_BASE_DIR+'/DEEP-REC.keras', save_format='keras')"
   ]
  },
  {
   "cell_type": "markdown",
   "metadata": {
    "id": "EegsD5ZzECy9"
   },
   "source": [
    "Load model from saved model(don't run if above code is loaded as model already loaded)"
   ]
  },
  {
   "cell_type": "code",
   "execution_count": null,
   "metadata": {
    "id": "w-MzrHN4EFpP"
   },
   "outputs": [],
   "source": [
    "model = tf.keras.models.load_model(_BASE_DIR+'/DEEP-REC.keras')"
   ]
  },
  {
   "cell_type": "markdown",
   "metadata": {
    "id": "aWHJyBSpX0cI"
   },
   "source": [
    "plot accuracy of model over time/epoch"
   ]
  },
  {
   "cell_type": "code",
   "execution_count": null,
   "metadata": {
    "id": "pD9KbxjtXucJ"
   },
   "outputs": [],
   "source": [
    "metrics = history.history\n",
    "plt.figure(figsize=(16,6))\n",
    "plt.subplot(1,2,1)\n",
    "plt.plot(history.epoch, metrics['loss'], metrics['val_loss'])\n",
    "plt.legend(['loss', 'val_loss'])\n",
    "plt.ylim([0, max(plt.ylim())])\n",
    "plt.xlabel('Epoch')\n",
    "plt.ylabel('Loss [CrossEntropy]')\n",
    "\n",
    "plt.subplot(1,2,2)\n",
    "plt.plot(history.epoch, 100*np.array(metrics['accuracy']), 100*np.array(metrics['val_accuracy']))\n",
    "plt.legend(['accuracy', 'val_accuracy'])\n",
    "plt.ylim([0, 100])\n",
    "plt.xlabel('Epoch')\n",
    "plt.ylabel('Accuracy [%]')"
   ]
  },
  {
   "cell_type": "markdown",
   "metadata": {
    "id": "fi3DHqxpDzEK"
   },
   "source": [
    "make new test set to verify the quality of model using whole testing set"
   ]
  },
  {
   "cell_type": "code",
   "execution_count": null,
   "metadata": {
    "id": "qCxycg6lDxgh"
   },
   "outputs": [],
   "source": [
    "def model_tests_1():\n",
    "    likes_path = os.path.join(\"/content/drive/MyDrive/prac_proj/data/liked_songs\", \"test_data\")\n",
    "    dislikes_path = os.path.join(\"/content/drive/MyDrive/prac_proj/data/disliked_songs\", \"test_data\")\n",
    "    # print(os.path.exists(likes_path))\n",
    "    # print(os.path.exists(dislikes_path))\n",
    "\n",
    "\n",
    "    #     #create paths to training data\n",
    "    # likes_path = os.path.join(\"/content/drive/MyDrive/practicum_proj/data/liked_songs\", \"train_data\")\n",
    "    # dislikes_path = os.path.join(\"/content/drive/MyDrive/practicum_proj/data/disliked_songs\", \"train_data\")\n",
    "    # print(os.path.exists(likes_path+\"/sample_0.mp3\"))\n",
    "    # print(os.path.exists(dislikes_path))\n",
    "\n",
    "    #load relevant samples\n",
    "    like_set = split_clips(likes_path+\"/sample_0.mp3\")\n",
    "    # print(like_set)\n",
    "    like_files = os.listdir(likes_path)\n",
    "    # like_data = tf.data.Dataset.list_files(likes_path+\"/*.mp3\")\n",
    "    # dislike_data = tf.data.Dataset.list_files(dislikes_path+\"/*.mp3\")\n",
    "    for x in range(1,550):\n",
    "      file_name = like_files[x]\n",
    "      # print(file_name)\n",
    "      temp_path = os.path.join(likes_path, file_name)\n",
    "      # print(temp_path)\n",
    "      # print(os.path.exists(temp_path))\n",
    "      temp_tensor = split_clips(temp_path)\n",
    "      like_set = tf.concat([like_set, temp_tensor], 0)\n",
    "    # print('done likes test')\n",
    "    # print(like_set)\n",
    "\n",
    "    dislike_set = split_clips(dislikes_path+\"/sample_0.mp3\")\n",
    "    # print(dislike_set)\n",
    "    dislike_files = os.listdir(dislikes_path)\n",
    "    # like_data = tf.data.Dataset.list_files(likes_path+\"/*.mp3\")\n",
    "    # dislike_data = tf.data.Dataset.list_files(dislikes_path+\"/*.mp3\")\n",
    "    for x in range(1, 550):\n",
    "      file_name = dislike_files[x]\n",
    "      temp_path = os.path.join(dislikes_path, file_name)\n",
    "      # print(temp_path)\n",
    "      temp_tensor = split_clips(temp_path)\n",
    "      dislikeset = tf.concat([dislike_set, temp_tensor], 0)\n",
    "    # print('done dislikes test')\n",
    "    # print(dislike_set)\n",
    "\n",
    "    #convert to datasets\n",
    "    like_data = tf.data.Dataset.from_tensor_slices(like_set)\n",
    "    dislike_data = tf.data.Dataset.from_tensor_slices(dislike_set)\n",
    "\n",
    "\n",
    "    # #create relevant test datasets\n",
    "    # like_data = tf.data.Dataset.list_files(likes_path+\"/*.mp3\")\n",
    "    # dislike_data = tf.data.Dataset.list_files(dislikes_path+\"/*.mp3\")\n",
    "    # like_data = like_data.map(split_clips)\n",
    "    # dislike_data = dislike_data.map(split_clips)\n",
    "    # # #-----------------------\n",
    "    # # dataset_to_numpy = list(like_data.as_numpy_iterator())\n",
    "    # # shape = tf.shape(dataset_to_numpy)\n",
    "    # # print(shape)\n",
    "    # # #---------------------\n",
    "    # # dislike_data = tf.concat(dislike_data, 2)\n",
    "    # like_data = tf.concat(like_data, 2)\n",
    "    like_spect = like_data.map(to_spectrogram, num_parallel_calls=AUTOTUNE)\n",
    "    dislike_spect = dislike_data.map(to_spectrogram, num_parallel_calls=AUTOTUNE)\n",
    "\n",
    "    # # #tensors are currently in groups of 6 and need to be flattened to 1 column of tensors\n",
    "    # # like_spect = tf.stack(like_spect)\n",
    "    # # dislike_spect = tf.stack(dislike_spect)\n",
    "\n",
    "    # # like_shape = tf.shape(like_spect)\n",
    "    # # dislike_shape = tf.shape(dislike_spect)\n",
    "    # # like_spect = tf.reshape(like_spect, [])\n",
    "    # # dislike_spect = tf.reshape([])\n",
    "\n",
    "    likes = tf.data.Dataset.zip((like_spect, tf.data.Dataset.from_tensor_slices(tf.ones(len(like_data)))))\n",
    "    dislikes = tf.data.Dataset.zip((dislike_spect, tf.data.Dataset.from_tensor_slices(tf.zeros(len(dislike_data)))))\n",
    "\n",
    "    test_data = likes.concatenate(dislikes)\n",
    "    test_data = test_data.shuffle(buffer_size=100).batch(4).prefetch(buffer_size=AUTOTUNE)\n",
    "    return test_data"
   ]
  },
  {
   "cell_type": "code",
   "execution_count": null,
   "metadata": {
    "id": "LGiR0apyEQ2e"
   },
   "outputs": [],
   "source": [
    "def model_tests_2():\n",
    "    likes_path = os.path.join(\"/content/drive/MyDrive/prac_proj/data/liked_songs\", \"test_data\")\n",
    "    dislikes_path = os.path.join(\"/content/drive/MyDrive/prac_proj/data/disliked_songs\", \"test_data\")\n",
    "    # print(os.path.exists(likes_path))\n",
    "    # print(os.path.exists(dislikes_path))\n",
    "\n",
    "\n",
    "    #     #create paths to training data\n",
    "    # likes_path = os.path.join(\"/content/drive/MyDrive/practicum_proj/data/liked_songs\", \"train_data\")\n",
    "    # dislikes_path = os.path.join(\"/content/drive/MyDrive/practicum_proj/data/disliked_songs\", \"train_data\")\n",
    "    # print(os.path.exists(likes_path+\"/sample_0.mp3\"))\n",
    "    # print(os.path.exists(dislikes_path))\n",
    "\n",
    "    #load relevant samples\n",
    "    like_set = split_clips(likes_path+\"/sample_0.mp3\")\n",
    "    # print(like_set)\n",
    "    like_files = os.listdir(likes_path)\n",
    "    # like_data = tf.data.Dataset.list_files(likes_path+\"/*.mp3\")\n",
    "    # dislike_data = tf.data.Dataset.list_files(dislikes_path+\"/*.mp3\")\n",
    "    for x in range(550,len(like_files)):\n",
    "      file_name = like_files[x]\n",
    "      # print(file_name)\n",
    "      temp_path = os.path.join(likes_path, file_name)\n",
    "      # print(temp_path)\n",
    "      # print(os.path.exists(temp_path))\n",
    "      temp_tensor = split_clips(temp_path)\n",
    "      like_set = tf.concat([like_set, temp_tensor], 0)\n",
    "    # print('done likes test')\n",
    "    # print(like_set)\n",
    "\n",
    "    dislike_set = split_clips(dislikes_path+\"/sample_0.mp3\")\n",
    "    # print(dislike_set)\n",
    "    dislike_files = os.listdir(dislikes_path)\n",
    "    # like_data = tf.data.Dataset.list_files(likes_path+\"/*.mp3\")\n",
    "    # dislike_data = tf.data.Dataset.list_files(dislikes_path+\"/*.mp3\")\n",
    "    for x in range(550,len(like_files)):\n",
    "      file_name = dislike_files[x]\n",
    "      temp_path = os.path.join(dislikes_path, file_name)\n",
    "      # print(temp_path)\n",
    "      temp_tensor = split_clips(temp_path)\n",
    "      dislikeset = tf.concat([dislike_set, temp_tensor], 0)\n",
    "    print('done dislikes test')\n",
    "    # print(dislike_set)\n",
    "\n",
    "    #convert to datasets\n",
    "    like_data = tf.data.Dataset.from_tensor_slices(like_set)\n",
    "    dislike_data = tf.data.Dataset.from_tensor_slices(dislike_set)\n",
    "\n",
    "\n",
    "    # #create relevant test datasets\n",
    "    # like_data = tf.data.Dataset.list_files(likes_path+\"/*.mp3\")\n",
    "    # dislike_data = tf.data.Dataset.list_files(dislikes_path+\"/*.mp3\")\n",
    "    # like_data = like_data.map(split_clips)\n",
    "    # dislike_data = dislike_data.map(split_clips)\n",
    "    # # #-----------------------\n",
    "    # # dataset_to_numpy = list(like_data.as_numpy_iterator())\n",
    "    # # shape = tf.shape(dataset_to_numpy)\n",
    "    # # print(shape)\n",
    "    # # #---------------------\n",
    "    # # dislike_data = tf.concat(dislike_data, 2)\n",
    "    # like_data = tf.concat(like_data, 2)\n",
    "    like_spect = like_data.map(to_spectrogram, num_parallel_calls=AUTOTUNE)\n",
    "    dislike_spect = dislike_data.map(to_spectrogram, num_parallel_calls=AUTOTUNE)\n",
    "\n",
    "    # # #tensors are currently in groups of 6 and need to be flattened to 1 column of tensors\n",
    "    # # like_spect = tf.stack(like_spect)\n",
    "    # # dislike_spect = tf.stack(dislike_spect)\n",
    "\n",
    "    # # like_shape = tf.shape(like_spect)\n",
    "    # # dislike_shape = tf.shape(dislike_spect)\n",
    "    # # like_spect = tf.reshape(like_spect, [])\n",
    "    # # dislike_spect = tf.reshape([])\n",
    "\n",
    "    likes = tf.data.Dataset.zip((like_spect, tf.data.Dataset.from_tensor_slices(tf.ones(len(like_data)))))\n",
    "    dislikes = tf.data.Dataset.zip((dislike_spect, tf.data.Dataset.from_tensor_slices(tf.zeros(len(dislike_data)))))\n",
    "\n",
    "    test_data = likes.concatenate(dislikes)\n",
    "    test_data = test_data.shuffle(buffer_size=100).batch(4).prefetch(buffer_size=AUTOTUNE)\n",
    "    return test_data"
   ]
  },
  {
   "cell_type": "code",
   "execution_count": null,
   "metadata": {
    "colab": {
     "base_uri": "https://localhost:8080/"
    },
    "id": "V_f_Xt7sFCXV",
    "outputId": "e9831be4-4140-4f8e-d947-71e04dee0898"
   },
   "outputs": [
    {
     "name": "stdout",
     "output_type": "stream",
     "text": [
      "827/827 [==============================] - 28s 27ms/step - loss: 0.3151 - accuracy: 0.9982\n",
      "{'loss': 0.3150775730609894, 'accuracy': 0.9981850981712341}\n"
     ]
    }
   ],
   "source": [
    "test_set_1 = model_tests_1()\n",
    "accuracy = model.evaluate(test_set_1, return_dict=True)\n",
    "print(accuracy)\n"
   ]
  },
  {
   "cell_type": "markdown",
   "metadata": {
    "id": "Ibf5YZ0kGRSo"
   },
   "source": [
    "DO NOT run this section to test if model code already loaded as test set 2 was loaded for validation only run it if model was loaded from storage"
   ]
  },
  {
   "cell_type": "code",
   "execution_count": null,
   "metadata": {
    "colab": {
     "base_uri": "https://localhost:8080/"
    },
    "id": "zaAx4TrOGPlu",
    "outputId": "6fd5a0a9-9b3c-4bb7-f92c-4dcc9279e255"
   },
   "outputs": [
    {
     "name": "stdout",
     "output_type": "stream",
     "text": [
      "done dislikes test\n",
      "543/543 [==============================] - 18s 27ms/step - loss: 0.3160 - accuracy: 0.9972\n",
      "{'loss': 0.316025048494339, 'accuracy': 0.9972375631332397}\n"
     ]
    }
   ],
   "source": [
    "test_set_2 = model_tests_2()\n",
    "accuracy = model.evaluate(test_set_2, return_dict=True)\n",
    "print(accuracy)"
   ]
  }
 ],
 "metadata": {
  "colab": {
   "machine_shape": "hm",
   "provenance": []
  },
  "kernelspec": {
   "display_name": "Python 3 (ipykernel)",
   "language": "python",
   "name": "python3"
  },
  "language_info": {
   "codemirror_mode": {
    "name": "ipython",
    "version": 3
   },
   "file_extension": ".py",
   "mimetype": "text/x-python",
   "name": "python",
   "nbconvert_exporter": "python",
   "pygments_lexer": "ipython3",
   "version": "3.8.10"
  }
 },
 "nbformat": 4,
 "nbformat_minor": 1
}
